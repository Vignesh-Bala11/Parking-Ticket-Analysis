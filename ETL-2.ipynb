{
 "cells": [
  {
   "cell_type": "code",
   "execution_count": 1,
   "source": [
    "import numpy as np\r\n",
    "import pandas as pd\r\n",
    "import matplotlib.pyplot as plt\r\n",
    "import datetime\r\n",
    "import geopandas as gpd\r\n",
    "\r\n",
    "%matplotlib inline"
   ],
   "outputs": [],
   "metadata": {}
  },
  {
   "cell_type": "code",
   "execution_count": 28,
   "source": [
    "shape_f = gpd.read_file(\"Data/Toronto Neighborhood Shapefiles/NEIGHBORHOODS_WGS84.shp\")\r\n",
    "df = pd.read_csv('Data/final.csv')"
   ],
   "outputs": [],
   "metadata": {}
  },
  {
   "cell_type": "code",
   "execution_count": 29,
   "source": [
    "shape_f = shape_f.rename({'AREA_S_CD': \"Area_ID\",}, axis=1)\r\n",
    "shape_f.head()"
   ],
   "outputs": [
    {
     "output_type": "execute_result",
     "data": {
      "text/plain": [
       "  Area_ID                     AREA_NAME  \\\n",
       "0     097           Yonge-St.Clair (97)   \n",
       "1     027  York University Heights (27)   \n",
       "2     038         Lansing-Westgate (38)   \n",
       "3     031       Yorkdale-Glen Park (31)   \n",
       "4     016      Stonegate-Queensway (16)   \n",
       "\n",
       "                                            geometry  \n",
       "0  POLYGON ((-79.39119 43.68108, -79.39141 43.680...  \n",
       "1  POLYGON ((-79.50529 43.75987, -79.50488 43.759...  \n",
       "2  POLYGON ((-79.43998 43.76156, -79.44004 43.761...  \n",
       "3  POLYGON ((-79.43969 43.70561, -79.44011 43.705...  \n",
       "4  POLYGON ((-79.49262 43.64744, -79.49277 43.647...  "
      ],
      "text/html": [
       "<div>\n",
       "<style scoped>\n",
       "    .dataframe tbody tr th:only-of-type {\n",
       "        vertical-align: middle;\n",
       "    }\n",
       "\n",
       "    .dataframe tbody tr th {\n",
       "        vertical-align: top;\n",
       "    }\n",
       "\n",
       "    .dataframe thead th {\n",
       "        text-align: right;\n",
       "    }\n",
       "</style>\n",
       "<table border=\"1\" class=\"dataframe\">\n",
       "  <thead>\n",
       "    <tr style=\"text-align: right;\">\n",
       "      <th></th>\n",
       "      <th>Area_ID</th>\n",
       "      <th>AREA_NAME</th>\n",
       "      <th>geometry</th>\n",
       "    </tr>\n",
       "  </thead>\n",
       "  <tbody>\n",
       "    <tr>\n",
       "      <th>0</th>\n",
       "      <td>097</td>\n",
       "      <td>Yonge-St.Clair (97)</td>\n",
       "      <td>POLYGON ((-79.39119 43.68108, -79.39141 43.680...</td>\n",
       "    </tr>\n",
       "    <tr>\n",
       "      <th>1</th>\n",
       "      <td>027</td>\n",
       "      <td>York University Heights (27)</td>\n",
       "      <td>POLYGON ((-79.50529 43.75987, -79.50488 43.759...</td>\n",
       "    </tr>\n",
       "    <tr>\n",
       "      <th>2</th>\n",
       "      <td>038</td>\n",
       "      <td>Lansing-Westgate (38)</td>\n",
       "      <td>POLYGON ((-79.43998 43.76156, -79.44004 43.761...</td>\n",
       "    </tr>\n",
       "    <tr>\n",
       "      <th>3</th>\n",
       "      <td>031</td>\n",
       "      <td>Yorkdale-Glen Park (31)</td>\n",
       "      <td>POLYGON ((-79.43969 43.70561, -79.44011 43.705...</td>\n",
       "    </tr>\n",
       "    <tr>\n",
       "      <th>4</th>\n",
       "      <td>016</td>\n",
       "      <td>Stonegate-Queensway (16)</td>\n",
       "      <td>POLYGON ((-79.49262 43.64744, -79.49277 43.647...</td>\n",
       "    </tr>\n",
       "  </tbody>\n",
       "</table>\n",
       "</div>"
      ]
     },
     "metadata": {},
     "execution_count": 29
    }
   ],
   "metadata": {}
  },
  {
   "cell_type": "code",
   "execution_count": 31,
   "source": [
    "shape_f['Area_ID'] = shape_f.Area_ID.astype(int)\r\n",
    "shape_f.dtypes"
   ],
   "outputs": [
    {
     "output_type": "execute_result",
     "data": {
      "text/plain": [
       "Area_ID         int32\n",
       "AREA_NAME      object\n",
       "geometry     geometry\n",
       "dtype: object"
      ]
     },
     "metadata": {},
     "execution_count": 31
    }
   ],
   "metadata": {}
  },
  {
   "cell_type": "code",
   "execution_count": 32,
   "source": [
    "# Merging Dataframes\r\n",
    "new_df = shape_f.merge(df, on='Area_ID')\r\n",
    "new_df.head()"
   ],
   "outputs": [
    {
     "output_type": "execute_result",
     "data": {
      "text/plain": [
       "   Area_ID            AREA_NAME  \\\n",
       "0       97  Yonge-St.Clair (97)   \n",
       "1       97  Yonge-St.Clair (97)   \n",
       "2       97  Yonge-St.Clair (97)   \n",
       "3       97  Yonge-St.Clair (97)   \n",
       "4       97  Yonge-St.Clair (97)   \n",
       "\n",
       "                                            geometry        Date       Time  \\\n",
       "0  POLYGON ((-79.39119 43.68108, -79.39141 43.680...  2016-01-01   07:53:00   \n",
       "1  POLYGON ((-79.39119 43.68108, -79.39141 43.680...  2016-01-01   08:03:00   \n",
       "2  POLYGON ((-79.39119 43.68108, -79.39141 43.680...  2016-01-01   07:19:00   \n",
       "3  POLYGON ((-79.39119 43.68108, -79.39141 43.680...  2016-01-01   07:26:00   \n",
       "4  POLYGON ((-79.39119 43.68108, -79.39141 43.680...  2016-01-01   07:17:00   \n",
       "\n",
       "   infraction_code           Address  count  fine_sum  \\\n",
       "0               29  140 BALMORAL AVE      1      30.0   \n",
       "1               29      15 BIRCH AVE      1      30.0   \n",
       "2               29      2 DUGGAN AVE      1      30.0   \n",
       "3               29     2 GORMLEY AVE      1      30.0   \n",
       "4               29     20 DUGGAN AVE      1      30.0   \n",
       "\n",
       "                      fine_descrp  longtitude   latitude  \n",
       "0  PARK PROHIBITED TIME NO PERMIT  -79.399490  43.684800  \n",
       "1  PARK PROHIBITED TIME NO PERMIT  -79.392010  43.681100  \n",
       "2  PARK PROHIBITED TIME NO PERMIT  -79.397351  43.693867  \n",
       "3  PARK PROHIBITED TIME NO PERMIT  -79.397390  43.694740  \n",
       "4  PARK PROHIBITED TIME NO PERMIT  -79.398150  43.693780  "
      ],
      "text/html": [
       "<div>\n",
       "<style scoped>\n",
       "    .dataframe tbody tr th:only-of-type {\n",
       "        vertical-align: middle;\n",
       "    }\n",
       "\n",
       "    .dataframe tbody tr th {\n",
       "        vertical-align: top;\n",
       "    }\n",
       "\n",
       "    .dataframe thead th {\n",
       "        text-align: right;\n",
       "    }\n",
       "</style>\n",
       "<table border=\"1\" class=\"dataframe\">\n",
       "  <thead>\n",
       "    <tr style=\"text-align: right;\">\n",
       "      <th></th>\n",
       "      <th>Area_ID</th>\n",
       "      <th>AREA_NAME</th>\n",
       "      <th>geometry</th>\n",
       "      <th>Date</th>\n",
       "      <th>Time</th>\n",
       "      <th>infraction_code</th>\n",
       "      <th>Address</th>\n",
       "      <th>count</th>\n",
       "      <th>fine_sum</th>\n",
       "      <th>fine_descrp</th>\n",
       "      <th>longtitude</th>\n",
       "      <th>latitude</th>\n",
       "    </tr>\n",
       "  </thead>\n",
       "  <tbody>\n",
       "    <tr>\n",
       "      <th>0</th>\n",
       "      <td>97</td>\n",
       "      <td>Yonge-St.Clair (97)</td>\n",
       "      <td>POLYGON ((-79.39119 43.68108, -79.39141 43.680...</td>\n",
       "      <td>2016-01-01</td>\n",
       "      <td>07:53:00</td>\n",
       "      <td>29</td>\n",
       "      <td>140 BALMORAL AVE</td>\n",
       "      <td>1</td>\n",
       "      <td>30.0</td>\n",
       "      <td>PARK PROHIBITED TIME NO PERMIT</td>\n",
       "      <td>-79.399490</td>\n",
       "      <td>43.684800</td>\n",
       "    </tr>\n",
       "    <tr>\n",
       "      <th>1</th>\n",
       "      <td>97</td>\n",
       "      <td>Yonge-St.Clair (97)</td>\n",
       "      <td>POLYGON ((-79.39119 43.68108, -79.39141 43.680...</td>\n",
       "      <td>2016-01-01</td>\n",
       "      <td>08:03:00</td>\n",
       "      <td>29</td>\n",
       "      <td>15 BIRCH AVE</td>\n",
       "      <td>1</td>\n",
       "      <td>30.0</td>\n",
       "      <td>PARK PROHIBITED TIME NO PERMIT</td>\n",
       "      <td>-79.392010</td>\n",
       "      <td>43.681100</td>\n",
       "    </tr>\n",
       "    <tr>\n",
       "      <th>2</th>\n",
       "      <td>97</td>\n",
       "      <td>Yonge-St.Clair (97)</td>\n",
       "      <td>POLYGON ((-79.39119 43.68108, -79.39141 43.680...</td>\n",
       "      <td>2016-01-01</td>\n",
       "      <td>07:19:00</td>\n",
       "      <td>29</td>\n",
       "      <td>2 DUGGAN AVE</td>\n",
       "      <td>1</td>\n",
       "      <td>30.0</td>\n",
       "      <td>PARK PROHIBITED TIME NO PERMIT</td>\n",
       "      <td>-79.397351</td>\n",
       "      <td>43.693867</td>\n",
       "    </tr>\n",
       "    <tr>\n",
       "      <th>3</th>\n",
       "      <td>97</td>\n",
       "      <td>Yonge-St.Clair (97)</td>\n",
       "      <td>POLYGON ((-79.39119 43.68108, -79.39141 43.680...</td>\n",
       "      <td>2016-01-01</td>\n",
       "      <td>07:26:00</td>\n",
       "      <td>29</td>\n",
       "      <td>2 GORMLEY AVE</td>\n",
       "      <td>1</td>\n",
       "      <td>30.0</td>\n",
       "      <td>PARK PROHIBITED TIME NO PERMIT</td>\n",
       "      <td>-79.397390</td>\n",
       "      <td>43.694740</td>\n",
       "    </tr>\n",
       "    <tr>\n",
       "      <th>4</th>\n",
       "      <td>97</td>\n",
       "      <td>Yonge-St.Clair (97)</td>\n",
       "      <td>POLYGON ((-79.39119 43.68108, -79.39141 43.680...</td>\n",
       "      <td>2016-01-01</td>\n",
       "      <td>07:17:00</td>\n",
       "      <td>29</td>\n",
       "      <td>20 DUGGAN AVE</td>\n",
       "      <td>1</td>\n",
       "      <td>30.0</td>\n",
       "      <td>PARK PROHIBITED TIME NO PERMIT</td>\n",
       "      <td>-79.398150</td>\n",
       "      <td>43.693780</td>\n",
       "    </tr>\n",
       "  </tbody>\n",
       "</table>\n",
       "</div>"
      ]
     },
     "metadata": {},
     "execution_count": 32
    }
   ],
   "metadata": {}
  },
  {
   "cell_type": "code",
   "execution_count": 33,
   "source": [
    "new_df.isnull().sum()"
   ],
   "outputs": [
    {
     "output_type": "execute_result",
     "data": {
      "text/plain": [
       "Area_ID            0\n",
       "AREA_NAME          0\n",
       "geometry           0\n",
       "Date               0\n",
       "Time               0\n",
       "infraction_code    0\n",
       "Address            0\n",
       "count              0\n",
       "fine_sum           0\n",
       "fine_descrp        0\n",
       "longtitude         0\n",
       "latitude           0\n",
       "dtype: int64"
      ]
     },
     "metadata": {},
     "execution_count": 33
    }
   ],
   "metadata": {}
  },
  {
   "cell_type": "code",
   "execution_count": 34,
   "source": [
    "new_df.shape"
   ],
   "outputs": [
    {
     "output_type": "execute_result",
     "data": {
      "text/plain": [
       "(516460, 12)"
      ]
     },
     "metadata": {},
     "execution_count": 34
    }
   ],
   "metadata": {}
  },
  {
   "cell_type": "code",
   "execution_count": 35,
   "source": [
    "new_df.dtypes"
   ],
   "outputs": [
    {
     "output_type": "execute_result",
     "data": {
      "text/plain": [
       "Area_ID               int32\n",
       "AREA_NAME            object\n",
       "geometry           geometry\n",
       "Date                 object\n",
       "Time                 object\n",
       "infraction_code       int64\n",
       "Address              object\n",
       "count                 int64\n",
       "fine_sum            float64\n",
       "fine_descrp          object\n",
       "longtitude          float64\n",
       "latitude            float64\n",
       "dtype: object"
      ]
     },
     "metadata": {},
     "execution_count": 35
    }
   ],
   "metadata": {}
  },
  {
   "cell_type": "code",
   "execution_count": 36,
   "source": [
    "# writing to shape file\r\n",
    "new_df.to_file('Data/data.shp')"
   ],
   "outputs": [
    {
     "output_type": "stream",
     "name": "stderr",
     "text": [
      "<ipython-input-36-ea8f7dcc5e2c>:2: UserWarning: Column names longer than 10 characters will be truncated when saved to ESRI Shapefile.\n",
      "  new_df.to_file('Data/data.shp')\n"
     ]
    }
   ],
   "metadata": {}
  },
  {
   "cell_type": "code",
   "execution_count": null,
   "source": [],
   "outputs": [],
   "metadata": {}
  }
 ],
 "metadata": {
  "orig_nbformat": 4,
  "language_info": {
   "name": "python",
   "version": "3.8.5",
   "mimetype": "text/x-python",
   "codemirror_mode": {
    "name": "ipython",
    "version": 3
   },
   "pygments_lexer": "ipython3",
   "nbconvert_exporter": "python",
   "file_extension": ".py"
  },
  "kernelspec": {
   "name": "python3",
   "display_name": "Python 3.8.5 64-bit ('base': conda)"
  },
  "interpreter": {
   "hash": "6c0832e4cd2800899b30a5242305d5e7d18aeecb802b992d2cfd0d14b8e776b1"
  }
 },
 "nbformat": 4,
 "nbformat_minor": 2
}